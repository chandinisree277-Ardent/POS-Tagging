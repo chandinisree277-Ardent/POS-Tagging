{
  "nbformat": 4,
  "nbformat_minor": 0,
  "metadata": {
    "colab": {
      "provenance": []
    },
    "kernelspec": {
      "name": "python3",
      "display_name": "Python 3"
    },
    "language_info": {
      "name": "python"
    }
  },
  "cells": [
    {
      "cell_type": "code",
      "execution_count": null,
      "metadata": {
        "id": "jS1zSBj3Dqm3"
      },
      "outputs": [],
      "source": [
        "import nltk\n",
        "\n",
        "# Download the required resource for POS tagging\n",
        "nltk.download('averaged_perceptron_tagger_eng')\n",
        "\n",
        "def pos_tag_text(text):\n",
        "    # Tokenize the text into words\n",
        "    tokens = nltk.word_tokenize(text)\n",
        "\n",
        "    # Perform POS tagging\n",
        "    pos_tags = nltk.pos_tag(tokens)\n",
        "\n",
        "    return pos_tags\n",
        "\n",
        "\n",
        "text = \"The quick brown fox jumps over the lazy dog.\"\n",
        "pos_tags = pos_tag_text(text)\n",
        "print(f\"Text: {text}\")\n",
        "print(f\"POS tags: {pos_tags}\")"
      ]
    }
  ]
}